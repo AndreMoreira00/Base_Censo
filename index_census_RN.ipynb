{
 "cells": [
  {
   "cell_type": "code",
   "execution_count": 2,
   "metadata": {},
   "outputs": [],
   "source": [
    "import pickle\n",
    "with open('Censo.pkl', 'rb') as f:\n",
    "  X_treinamento, Y_treinamento, X_teste, Y_teste = pickle.load(f)"
   ]
  },
  {
   "cell_type": "code",
   "execution_count": 3,
   "metadata": {},
   "outputs": [
    {
     "data": {
      "text/plain": [
       "((27676, 108), (27676,))"
      ]
     },
     "execution_count": 3,
     "metadata": {},
     "output_type": "execute_result"
    }
   ],
   "source": [
    "X_treinamento.shape, Y_treinamento.shape"
   ]
  },
  {
   "cell_type": "code",
   "execution_count": 4,
   "metadata": {},
   "outputs": [
    {
     "data": {
      "text/plain": [
       "((4885, 108), (4885,))"
      ]
     },
     "execution_count": 4,
     "metadata": {},
     "output_type": "execute_result"
    }
   ],
   "source": [
    "X_teste.shape, Y_teste.shape"
   ]
  },
  {
   "cell_type": "code",
   "execution_count": 5,
   "metadata": {},
   "outputs": [],
   "source": [
    "from sklearn.neural_network import MLPClassifier"
   ]
  },
  {
   "cell_type": "code",
   "execution_count": 6,
   "metadata": {},
   "outputs": [
    {
     "name": "stdout",
     "output_type": "stream",
     "text": [
      "Iteration 1, loss = 0.38552841\n",
      "Iteration 2, loss = 0.32501346\n",
      "Iteration 3, loss = 0.31294277\n",
      "Iteration 4, loss = 0.30583378\n",
      "Iteration 5, loss = 0.30106364\n",
      "Iteration 6, loss = 0.29714324\n",
      "Iteration 7, loss = 0.29387664\n",
      "Iteration 8, loss = 0.29113968\n",
      "Iteration 9, loss = 0.28898793\n",
      "Iteration 10, loss = 0.28632684\n",
      "Iteration 11, loss = 0.28417250\n",
      "Iteration 12, loss = 0.28256848\n",
      "Iteration 13, loss = 0.28081545\n",
      "Iteration 14, loss = 0.27886403\n",
      "Iteration 15, loss = 0.27930710\n",
      "Iteration 16, loss = 0.27583821\n",
      "Iteration 17, loss = 0.27301760\n",
      "Iteration 18, loss = 0.27152242\n",
      "Iteration 19, loss = 0.26981715\n",
      "Iteration 20, loss = 0.26908859\n",
      "Iteration 21, loss = 0.26697846\n",
      "Iteration 22, loss = 0.26522936\n",
      "Iteration 23, loss = 0.26426735\n",
      "Iteration 24, loss = 0.26308315\n",
      "Iteration 25, loss = 0.26136360\n",
      "Iteration 26, loss = 0.25993916\n",
      "Iteration 27, loss = 0.25944170\n",
      "Iteration 28, loss = 0.25716945\n",
      "Iteration 29, loss = 0.25634339\n",
      "Iteration 30, loss = 0.25545937\n",
      "Iteration 31, loss = 0.25382530\n",
      "Iteration 32, loss = 0.25245011\n",
      "Iteration 33, loss = 0.25161535\n",
      "Iteration 34, loss = 0.25091002\n",
      "Iteration 35, loss = 0.24789215\n",
      "Iteration 36, loss = 0.24707395\n",
      "Iteration 37, loss = 0.24590383\n",
      "Iteration 38, loss = 0.24497730\n",
      "Iteration 39, loss = 0.24294833\n",
      "Iteration 40, loss = 0.24246949\n",
      "Iteration 41, loss = 0.24056871\n",
      "Iteration 42, loss = 0.24016827\n",
      "Iteration 43, loss = 0.23869627\n",
      "Iteration 44, loss = 0.23811239\n",
      "Iteration 45, loss = 0.23672819\n",
      "Iteration 46, loss = 0.23592729\n",
      "Iteration 47, loss = 0.23389819\n",
      "Iteration 48, loss = 0.23324358\n",
      "Iteration 49, loss = 0.23217563\n",
      "Iteration 50, loss = 0.23212674\n",
      "Iteration 51, loss = 0.23078548\n",
      "Iteration 52, loss = 0.23023321\n",
      "Iteration 53, loss = 0.22923561\n",
      "Iteration 54, loss = 0.22772711\n",
      "Iteration 55, loss = 0.22727833\n",
      "Iteration 56, loss = 0.22649803\n",
      "Iteration 57, loss = 0.22508552\n",
      "Iteration 58, loss = 0.22350849\n",
      "Iteration 59, loss = 0.22325545\n",
      "Iteration 60, loss = 0.22323615\n",
      "Iteration 61, loss = 0.22118679\n",
      "Iteration 62, loss = 0.22039798\n",
      "Iteration 63, loss = 0.22066771\n",
      "Iteration 64, loss = 0.21954360\n",
      "Iteration 65, loss = 0.21897098\n",
      "Iteration 66, loss = 0.21707737\n",
      "Iteration 67, loss = 0.21653180\n",
      "Iteration 68, loss = 0.21525474\n",
      "Iteration 69, loss = 0.21512241\n",
      "Iteration 70, loss = 0.21427540\n",
      "Iteration 71, loss = 0.21406867\n",
      "Iteration 72, loss = 0.21287905\n",
      "Iteration 73, loss = 0.21215503\n",
      "Iteration 74, loss = 0.21024642\n",
      "Iteration 75, loss = 0.21069677\n",
      "Iteration 76, loss = 0.20999813\n",
      "Iteration 77, loss = 0.20968154\n",
      "Iteration 78, loss = 0.20845301\n",
      "Iteration 79, loss = 0.20824396\n",
      "Iteration 80, loss = 0.20834149\n",
      "Iteration 81, loss = 0.20639574\n",
      "Iteration 82, loss = 0.20603768\n",
      "Iteration 83, loss = 0.20487071\n",
      "Iteration 84, loss = 0.20537716\n",
      "Iteration 85, loss = 0.20477985\n",
      "Iteration 86, loss = 0.20375477\n",
      "Iteration 87, loss = 0.20371555\n",
      "Iteration 88, loss = 0.20376399\n",
      "Iteration 89, loss = 0.20261010\n",
      "Iteration 90, loss = 0.20223301\n",
      "Iteration 91, loss = 0.20079691\n",
      "Iteration 92, loss = 0.20012531\n",
      "Iteration 93, loss = 0.20111918\n",
      "Iteration 94, loss = 0.19902641\n",
      "Iteration 95, loss = 0.19892792\n",
      "Iteration 96, loss = 0.19868062\n",
      "Iteration 97, loss = 0.19639795\n",
      "Iteration 98, loss = 0.19723844\n",
      "Iteration 99, loss = 0.19641965\n",
      "Iteration 100, loss = 0.19560150\n",
      "Iteration 101, loss = 0.19485776\n",
      "Iteration 102, loss = 0.19530858\n",
      "Iteration 103, loss = 0.19607260\n",
      "Iteration 104, loss = 0.19318354\n",
      "Iteration 105, loss = 0.19388789\n",
      "Iteration 106, loss = 0.19350203\n",
      "Iteration 107, loss = 0.19262414\n",
      "Iteration 108, loss = 0.19251102\n",
      "Iteration 109, loss = 0.19275142\n",
      "Iteration 110, loss = 0.19059616\n",
      "Iteration 111, loss = 0.19079071\n",
      "Iteration 112, loss = 0.18967889\n",
      "Iteration 113, loss = 0.18999034\n",
      "Iteration 114, loss = 0.18968303\n",
      "Iteration 115, loss = 0.18825019\n",
      "Iteration 116, loss = 0.18989266\n",
      "Iteration 117, loss = 0.18876946\n",
      "Iteration 118, loss = 0.18954775\n",
      "Iteration 119, loss = 0.18642019\n",
      "Iteration 120, loss = 0.18613740\n",
      "Iteration 121, loss = 0.18509457\n",
      "Iteration 122, loss = 0.18653818\n",
      "Iteration 123, loss = 0.18540306\n",
      "Iteration 124, loss = 0.18414275\n",
      "Iteration 125, loss = 0.18540626\n",
      "Iteration 126, loss = 0.18343303\n",
      "Iteration 127, loss = 0.18307781\n",
      "Iteration 128, loss = 0.18283780\n",
      "Iteration 129, loss = 0.18215609\n",
      "Iteration 130, loss = 0.18209673\n",
      "Iteration 131, loss = 0.18263295\n",
      "Iteration 132, loss = 0.18110842\n",
      "Iteration 133, loss = 0.18237774\n",
      "Iteration 134, loss = 0.18066876\n",
      "Iteration 135, loss = 0.17989022\n",
      "Iteration 136, loss = 0.17999779\n",
      "Iteration 137, loss = 0.17997767\n",
      "Iteration 138, loss = 0.17899162\n",
      "Iteration 139, loss = 0.17964713\n",
      "Iteration 140, loss = 0.17785966\n",
      "Iteration 141, loss = 0.17822374\n",
      "Iteration 142, loss = 0.18012286\n",
      "Iteration 143, loss = 0.17905021\n",
      "Iteration 144, loss = 0.17894760\n",
      "Iteration 145, loss = 0.17734732\n",
      "Iteration 146, loss = 0.17821278\n",
      "Iteration 147, loss = 0.17718341\n",
      "Iteration 148, loss = 0.17565708\n",
      "Iteration 149, loss = 0.17631764\n",
      "Iteration 150, loss = 0.17540727\n",
      "Iteration 151, loss = 0.17389633\n",
      "Iteration 152, loss = 0.17376834\n",
      "Iteration 153, loss = 0.17403137\n",
      "Iteration 154, loss = 0.17455986\n",
      "Iteration 155, loss = 0.17311393\n",
      "Iteration 156, loss = 0.17342336\n",
      "Iteration 157, loss = 0.17349091\n",
      "Iteration 158, loss = 0.17386452\n",
      "Iteration 159, loss = 0.17094676\n",
      "Iteration 160, loss = 0.17256758\n",
      "Iteration 161, loss = 0.17328284\n",
      "Iteration 162, loss = 0.17313891\n",
      "Iteration 163, loss = 0.17213795\n",
      "Iteration 164, loss = 0.17194156\n",
      "Iteration 165, loss = 0.17161106\n",
      "Iteration 166, loss = 0.17436923\n",
      "Iteration 167, loss = 0.16945481\n",
      "Iteration 168, loss = 0.17077446\n",
      "Iteration 169, loss = 0.17010617\n",
      "Iteration 170, loss = 0.16896503\n",
      "Iteration 171, loss = 0.16957645\n",
      "Iteration 172, loss = 0.16767027\n",
      "Iteration 173, loss = 0.16875647\n",
      "Iteration 174, loss = 0.17348647\n",
      "Iteration 175, loss = 0.16974513\n",
      "Iteration 176, loss = 0.16771004\n",
      "Iteration 177, loss = 0.16837540\n",
      "Iteration 178, loss = 0.16807961\n",
      "Iteration 179, loss = 0.16814288\n",
      "Iteration 180, loss = 0.16666876\n",
      "Iteration 181, loss = 0.16748095\n",
      "Iteration 182, loss = 0.16601872\n",
      "Iteration 183, loss = 0.16624401\n",
      "Iteration 184, loss = 0.16613144\n",
      "Iteration 185, loss = 0.16656535\n",
      "Iteration 186, loss = 0.16550062\n",
      "Iteration 187, loss = 0.16562327\n",
      "Iteration 188, loss = 0.16571631\n",
      "Iteration 189, loss = 0.16418767\n",
      "Iteration 190, loss = 0.16337584\n",
      "Iteration 191, loss = 0.16388767\n",
      "Iteration 192, loss = 0.16403503\n",
      "Iteration 193, loss = 0.16675638\n",
      "Iteration 194, loss = 0.16459997\n",
      "Iteration 195, loss = 0.16343618\n",
      "Iteration 196, loss = 0.16449409\n",
      "Iteration 197, loss = 0.16290377\n",
      "Iteration 198, loss = 0.16207100\n",
      "Iteration 199, loss = 0.16391578\n",
      "Iteration 200, loss = 0.16265539\n",
      "Iteration 201, loss = 0.16362660\n",
      "Iteration 202, loss = 0.16397612\n",
      "Iteration 203, loss = 0.16239594\n",
      "Iteration 204, loss = 0.16145027\n",
      "Iteration 205, loss = 0.16283739\n",
      "Iteration 206, loss = 0.16115967\n",
      "Iteration 207, loss = 0.16067496\n",
      "Iteration 208, loss = 0.16113384\n",
      "Iteration 209, loss = 0.16064357\n",
      "Iteration 210, loss = 0.16111463\n",
      "Iteration 211, loss = 0.16148969\n",
      "Iteration 212, loss = 0.16105373\n",
      "Iteration 213, loss = 0.16215198\n",
      "Iteration 214, loss = 0.15958673\n",
      "Iteration 215, loss = 0.16000093\n",
      "Iteration 216, loss = 0.15915193\n",
      "Iteration 217, loss = 0.16066826\n",
      "Iteration 218, loss = 0.15814915\n",
      "Iteration 219, loss = 0.15983070\n",
      "Iteration 220, loss = 0.15958876\n",
      "Iteration 221, loss = 0.15858468\n",
      "Iteration 222, loss = 0.15779102\n",
      "Iteration 223, loss = 0.15729303\n",
      "Iteration 224, loss = 0.15779346\n",
      "Iteration 225, loss = 0.15755501\n",
      "Iteration 226, loss = 0.15665707\n",
      "Iteration 227, loss = 0.15749947\n",
      "Iteration 228, loss = 0.15759794\n",
      "Iteration 229, loss = 0.15792944\n",
      "Iteration 230, loss = 0.15624545\n",
      "Iteration 231, loss = 0.15665542\n",
      "Iteration 232, loss = 0.15615926\n",
      "Iteration 233, loss = 0.15758173\n",
      "Iteration 234, loss = 0.15524319\n",
      "Iteration 235, loss = 0.15589917\n",
      "Iteration 236, loss = 0.15658706\n",
      "Iteration 237, loss = 0.15624827\n",
      "Iteration 238, loss = 0.15698570\n",
      "Iteration 239, loss = 0.15461618\n",
      "Iteration 240, loss = 0.15420655\n",
      "Iteration 241, loss = 0.15381623\n",
      "Iteration 242, loss = 0.15502894\n",
      "Iteration 243, loss = 0.15485267\n",
      "Iteration 244, loss = 0.15418235\n",
      "Iteration 245, loss = 0.15409421\n",
      "Iteration 246, loss = 0.15681446\n",
      "Iteration 247, loss = 0.15498105\n",
      "Iteration 248, loss = 0.15477127\n",
      "Iteration 249, loss = 0.15458979\n",
      "Iteration 250, loss = 0.15447096\n",
      "Iteration 251, loss = 0.15428311\n",
      "Iteration 252, loss = 0.15402386\n",
      "Training loss did not improve more than tol=0.000010 for 10 consecutive epochs. Stopping.\n"
     ]
    },
    {
     "data": {
      "text/html": [
       "<style>#sk-container-id-1 {color: black;}#sk-container-id-1 pre{padding: 0;}#sk-container-id-1 div.sk-toggleable {background-color: white;}#sk-container-id-1 label.sk-toggleable__label {cursor: pointer;display: block;width: 100%;margin-bottom: 0;padding: 0.3em;box-sizing: border-box;text-align: center;}#sk-container-id-1 label.sk-toggleable__label-arrow:before {content: \"▸\";float: left;margin-right: 0.25em;color: #696969;}#sk-container-id-1 label.sk-toggleable__label-arrow:hover:before {color: black;}#sk-container-id-1 div.sk-estimator:hover label.sk-toggleable__label-arrow:before {color: black;}#sk-container-id-1 div.sk-toggleable__content {max-height: 0;max-width: 0;overflow: hidden;text-align: left;background-color: #f0f8ff;}#sk-container-id-1 div.sk-toggleable__content pre {margin: 0.2em;color: black;border-radius: 0.25em;background-color: #f0f8ff;}#sk-container-id-1 input.sk-toggleable__control:checked~div.sk-toggleable__content {max-height: 200px;max-width: 100%;overflow: auto;}#sk-container-id-1 input.sk-toggleable__control:checked~label.sk-toggleable__label-arrow:before {content: \"▾\";}#sk-container-id-1 div.sk-estimator input.sk-toggleable__control:checked~label.sk-toggleable__label {background-color: #d4ebff;}#sk-container-id-1 div.sk-label input.sk-toggleable__control:checked~label.sk-toggleable__label {background-color: #d4ebff;}#sk-container-id-1 input.sk-hidden--visually {border: 0;clip: rect(1px 1px 1px 1px);clip: rect(1px, 1px, 1px, 1px);height: 1px;margin: -1px;overflow: hidden;padding: 0;position: absolute;width: 1px;}#sk-container-id-1 div.sk-estimator {font-family: monospace;background-color: #f0f8ff;border: 1px dotted black;border-radius: 0.25em;box-sizing: border-box;margin-bottom: 0.5em;}#sk-container-id-1 div.sk-estimator:hover {background-color: #d4ebff;}#sk-container-id-1 div.sk-parallel-item::after {content: \"\";width: 100%;border-bottom: 1px solid gray;flex-grow: 1;}#sk-container-id-1 div.sk-label:hover label.sk-toggleable__label {background-color: #d4ebff;}#sk-container-id-1 div.sk-serial::before {content: \"\";position: absolute;border-left: 1px solid gray;box-sizing: border-box;top: 0;bottom: 0;left: 50%;z-index: 0;}#sk-container-id-1 div.sk-serial {display: flex;flex-direction: column;align-items: center;background-color: white;padding-right: 0.2em;padding-left: 0.2em;position: relative;}#sk-container-id-1 div.sk-item {position: relative;z-index: 1;}#sk-container-id-1 div.sk-parallel {display: flex;align-items: stretch;justify-content: center;background-color: white;position: relative;}#sk-container-id-1 div.sk-item::before, #sk-container-id-1 div.sk-parallel-item::before {content: \"\";position: absolute;border-left: 1px solid gray;box-sizing: border-box;top: 0;bottom: 0;left: 50%;z-index: -1;}#sk-container-id-1 div.sk-parallel-item {display: flex;flex-direction: column;z-index: 1;position: relative;background-color: white;}#sk-container-id-1 div.sk-parallel-item:first-child::after {align-self: flex-end;width: 50%;}#sk-container-id-1 div.sk-parallel-item:last-child::after {align-self: flex-start;width: 50%;}#sk-container-id-1 div.sk-parallel-item:only-child::after {width: 0;}#sk-container-id-1 div.sk-dashed-wrapped {border: 1px dashed gray;margin: 0 0.4em 0.5em 0.4em;box-sizing: border-box;padding-bottom: 0.4em;background-color: white;}#sk-container-id-1 div.sk-label label {font-family: monospace;font-weight: bold;display: inline-block;line-height: 1.2em;}#sk-container-id-1 div.sk-label-container {text-align: center;}#sk-container-id-1 div.sk-container {/* jupyter's `normalize.less` sets `[hidden] { display: none; }` but bootstrap.min.css set `[hidden] { display: none !important; }` so we also need the `!important` here to be able to override the default hidden behavior on the sphinx rendered scikit-learn.org. See: https://github.com/scikit-learn/scikit-learn/issues/21755 */display: inline-block !important;position: relative;}#sk-container-id-1 div.sk-text-repr-fallback {display: none;}</style><div id=\"sk-container-id-1\" class=\"sk-top-container\"><div class=\"sk-text-repr-fallback\"><pre>MLPClassifier(hidden_layer_sizes=(55, 55), max_iter=1000, tol=1e-05,\n",
       "              verbose=True)</pre><b>In a Jupyter environment, please rerun this cell to show the HTML representation or trust the notebook. <br />On GitHub, the HTML representation is unable to render, please try loading this page with nbviewer.org.</b></div><div class=\"sk-container\" hidden><div class=\"sk-item\"><div class=\"sk-estimator sk-toggleable\"><input class=\"sk-toggleable__control sk-hidden--visually\" id=\"sk-estimator-id-1\" type=\"checkbox\" checked><label for=\"sk-estimator-id-1\" class=\"sk-toggleable__label sk-toggleable__label-arrow\">MLPClassifier</label><div class=\"sk-toggleable__content\"><pre>MLPClassifier(hidden_layer_sizes=(55, 55), max_iter=1000, tol=1e-05,\n",
       "              verbose=True)</pre></div></div></div></div></div>"
      ],
      "text/plain": [
       "MLPClassifier(hidden_layer_sizes=(55, 55), max_iter=1000, tol=1e-05,\n",
       "              verbose=True)"
      ]
     },
     "execution_count": 6,
     "metadata": {},
     "output_type": "execute_result"
    }
   ],
   "source": [
    "rede_neural_censo = MLPClassifier(verbose=True, max_iter=1000, tol=0.00001, hidden_layer_sizes=(55, 55))\n",
    "rede_neural_censo.fit(X_treinamento, Y_treinamento)"
   ]
  },
  {
   "cell_type": "code",
   "execution_count": 8,
   "metadata": {},
   "outputs": [
    {
     "data": {
      "text/plain": [
       "array([' <=50K', ' <=50K', ' <=50K', ..., ' <=50K', ' <=50K', ' >50K'],\n",
       "      dtype='<U6')"
      ]
     },
     "execution_count": 8,
     "metadata": {},
     "output_type": "execute_result"
    }
   ],
   "source": [
    "previsoes = rede_neural_censo.predict(X_teste)\n",
    "previsoes"
   ]
  },
  {
   "cell_type": "code",
   "execution_count": 9,
   "metadata": {},
   "outputs": [
    {
     "data": {
      "text/plain": [
       "array([' <=50K', ' <=50K', ' <=50K', ..., ' <=50K', ' <=50K', ' <=50K'],\n",
       "      dtype=object)"
      ]
     },
     "execution_count": 9,
     "metadata": {},
     "output_type": "execute_result"
    }
   ],
   "source": [
    "Y_teste"
   ]
  },
  {
   "cell_type": "code",
   "execution_count": 10,
   "metadata": {},
   "outputs": [
    {
     "data": {
      "text/plain": [
       "0.8227226202661208"
      ]
     },
     "execution_count": 10,
     "metadata": {},
     "output_type": "execute_result"
    }
   ],
   "source": [
    "from sklearn.metrics import accuracy_score, classification_report\n",
    "accuracy_score(Y_teste, previsoes)"
   ]
  },
  {
   "cell_type": "code",
   "execution_count": 11,
   "metadata": {},
   "outputs": [
    {
     "data": {
      "text/plain": [
       "0.8227226202661208"
      ]
     },
     "execution_count": 11,
     "metadata": {},
     "output_type": "execute_result"
    },
    {
     "data": {
      "image/png": "[encoded data removed]",
      "text/plain": [
       "<Figure size 800x550 with 1 Axes>"
      ]
     },
     "metadata": {},
     "output_type": "display_data"
    }
   ],
   "source": [
    "from yellowbrick.classifier import ConfusionMatrix\n",
    "cm = ConfusionMatrix(rede_neural_censo)\n",
    "cm.fit(X_treinamento, Y_treinamento)\n",
    "cm.score(X_teste, Y_teste)"
   ]
  },
  {
   "cell_type": "code",
   "execution_count": 12,
   "metadata": {},
   "outputs": [
    {
     "name": "stdout",
     "output_type": "stream",
     "text": [
      "              precision    recall  f1-score   support\n",
      "\n",
      "       <=50K       0.87      0.90      0.88      3693\n",
      "        >50K       0.65      0.59      0.62      1192\n",
      "\n",
      "    accuracy                           0.82      4885\n",
      "   macro avg       0.76      0.74      0.75      4885\n",
      "weighted avg       0.82      0.82      0.82      4885\n",
      "\n"
     ]
    }
   ],
   "source": [
    "print(classification_report(Y_teste, previsoes))"
   ]
  },
  {
   "cell_type": "code",
   "execution_count": null,
   "metadata": {},
   "outputs": [],
   "source": []
  }
 ],
 "metadata": {
  "kernelspec": {
   "display_name": "Python 3",
   "language": "python",
   "name": "python3"
  },
  "language_info": {
   "codemirror_mode": {
    "name": "ipython",
    "version": 3
   },
   "file_extension": ".py",
   "mimetype": "text/x-python",
   "name": "python",
   "nbconvert_exporter": "python",
   "pygments_lexer": "ipython3",
   "version": "3.9.7"
  }
 },
 "nbformat": 4,
 "nbformat_minor": 2
}
